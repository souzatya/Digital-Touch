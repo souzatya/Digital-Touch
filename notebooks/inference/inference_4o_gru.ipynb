{
 "cells": [
  {
   "cell_type": "code",
   "execution_count": 1,
   "metadata": {},
   "outputs": [
    {
     "name": "stderr",
     "output_type": "stream",
     "text": [
      "2024-10-25 12:47:53.583774: I tensorflow/core/util/port.cc:153] oneDNN custom operations are on. You may see slightly different numerical results due to floating-point round-off errors from different computation orders. To turn them off, set the environment variable `TF_ENABLE_ONEDNN_OPTS=0`.\n",
      "2024-10-25 12:47:53.632757: E external/local_xla/xla/stream_executor/cuda/cuda_fft.cc:485] Unable to register cuFFT factory: Attempting to register factory for plugin cuFFT when one has already been registered\n",
      "2024-10-25 12:47:53.700178: E external/local_xla/xla/stream_executor/cuda/cuda_dnn.cc:8454] Unable to register cuDNN factory: Attempting to register factory for plugin cuDNN when one has already been registered\n",
      "2024-10-25 12:47:53.719461: E external/local_xla/xla/stream_executor/cuda/cuda_blas.cc:1452] Unable to register cuBLAS factory: Attempting to register factory for plugin cuBLAS when one has already been registered\n",
      "2024-10-25 12:47:53.764799: I tensorflow/core/platform/cpu_feature_guard.cc:210] This TensorFlow binary is optimized to use available CPU instructions in performance-critical operations.\n",
      "To enable the following instructions: AVX2 AVX512F AVX512_VNNI FMA, in other operations, rebuild TensorFlow with the appropriate compiler flags.\n",
      "2024-10-25 12:47:55.088235: W tensorflow/compiler/tf2tensorrt/utils/py_utils.cc:38] TF-TRT Warning: Could not find TensorRT\n"
     ]
    }
   ],
   "source": [
    "# importing libraries\n",
    "import math\n",
    "import tensorflow as tf\n",
    "import keras\n",
    "from keras.layers import *\n",
    "import numpy as np\n",
    "import random\n",
    "import io\n",
    "import os\n",
    "from sklearn.model_selection import train_test_split\n",
    "from keras.activations import tanh, softmax, sigmoid\n",
    "from keras.applications.inception_resnet_v2 import InceptionResNetV2\n",
    "import tensorflow as tf\n",
    "import random\n",
    "import os\n",
    "import keras\n",
    "import matplotlib.pyplot as plt\n",
    "import pandas as pd\n",
    "from keras.layers import (\n",
    "    LSTM,\n",
    "    LSTMCell,\n",
    "    Input,\n",
    "    Dense,\n",
    "    concatenate,\n",
    "    TimeDistributed,\n",
    "    Flatten,\n",
    "    Dropout,\n",
    "    Masking,\n",
    "    RepeatVector,\n",
    "    GlobalAveragePooling2D,\n",
    "    GlobalMaxPooling2D,\n",
    "    Reshape,\n",
    "    multiply,\n",
    "    Permute,\n",
    "    Concatenate,\n",
    "    Conv2D,\n",
    "    Add,\n",
    "    Activation,\n",
    "    Lambda,\n",
    "    BatchNormalization\n",
    ")\n",
    "from keras import backend as K, Model\n",
    "from sklearn.model_selection import train_test_split\n",
    "from keras.callbacks import ModelCheckpoint\n",
    "from sklearn.metrics import precision_score, recall_score, f1_score\n",
    "from tensorflow.keras.models import load_model\n",
    "from sklearn.metrics import confusion_matrix\n",
    "import seaborn as sns"
   ]
  },
  {
   "cell_type": "code",
   "execution_count": 2,
   "metadata": {},
   "outputs": [
    {
     "name": "stdout",
     "output_type": "stream",
     "text": [
      "Available GPUs: [PhysicalDevice(name='/physical_device:GPU:0', device_type='GPU'), PhysicalDevice(name='/physical_device:GPU:1', device_type='GPU'), PhysicalDevice(name='/physical_device:GPU:2', device_type='GPU'), PhysicalDevice(name='/physical_device:GPU:3', device_type='GPU'), PhysicalDevice(name='/physical_device:GPU:4', device_type='GPU'), PhysicalDevice(name='/physical_device:GPU:5', device_type='GPU'), PhysicalDevice(name='/physical_device:GPU:6', device_type='GPU'), PhysicalDevice(name='/physical_device:GPU:7', device_type='GPU')]\n",
      "Using GPU: PhysicalDevice(name='/physical_device:GPU:5', device_type='GPU')\n"
     ]
    }
   ],
   "source": [
    "# List all physical GPUs\n",
    "gpus = tf.config.list_physical_devices('GPU')\n",
    "print(\"Available GPUs:\", gpus)\n",
    "\n",
    "if gpus:\n",
    "    try:\n",
    "        # Select the first GPU (index 0)\n",
    "        tf.config.set_visible_devices(gpus[5], 'GPU')\n",
    "\n",
    "        # Optionally, limit GPU memory growth (prevents TensorFlow from consuming all GPU memory)\n",
    "        for gpu in gpus:\n",
    "            tf.config.experimental.set_memory_growth(gpu, True)\n",
    "        \n",
    "        print(\"Using GPU:\", gpus[5])\n",
    "    except RuntimeError as e:\n",
    "        # Visible devices must be set before GPUs have been initialized\n",
    "        print(e)"
   ]
  },
  {
   "cell_type": "code",
   "execution_count": 3,
   "metadata": {},
   "outputs": [
    {
     "data": {
      "text/plain": [
       "[array([1, 0, 0, 0]),\n",
       " array([0, 1, 0, 0]),\n",
       " array([0, 0, 1, 0]),\n",
       " array([0, 0, 0, 1])]"
      ]
     },
     "execution_count": 3,
     "metadata": {},
     "output_type": "execute_result"
    }
   ],
   "source": [
    "# hard objects\n",
    "plate = np.asarray([1, 0, 0, 0])\n",
    "# soft objects\n",
    "phone_cover = np.asarray([0, 1, 0, 0])\n",
    "bottle = np.asarray([0, 0, 1, 0])\n",
    "soft_rubber = np.asarray([0, 0, 0, 1])\n",
    "\n",
    "encoded_objects = [plate, phone_cover, bottle, soft_rubber]\n",
    "\n",
    "encoded_objects"
   ]
  },
  {
   "cell_type": "code",
   "execution_count": 4,
   "metadata": {},
   "outputs": [],
   "source": [
    "# reading a numpy file\n",
    "data_dir = './train_val_data'\n",
    "samples_per_window = 30\n",
    "\n",
    "def read_npy_files(directory):\n",
    "  data = []\n",
    "  labels = []\n",
    "  i = 0\n",
    "  for filename in os.listdir(directory):\n",
    "    if filename.endswith(\".npy\"):\n",
    "      base_name = os.path.splitext(filename)[0]\n",
    "      data.append(np.load(os.path.join(directory, filename), allow_pickle = True))\n",
    "      # for labelling objects = ['plate', 'ball', 'cover', 'bottle', 'soft_rubber']\n",
    "      if 'plate' in filename :\n",
    "          labels.append(np.tile(encoded_objects[0], (samples_per_window, 1)))\n",
    "      elif 'phone' in filename and 'cover' in filename :\n",
    "          labels.append(np.tile(encoded_objects[1], (samples_per_window, 1)))\n",
    "      elif 'bottle' in filename :\n",
    "          labels.append(np.tile(encoded_objects[2], (samples_per_window, 1)))\n",
    "      elif 'rubber' in filename :\n",
    "          labels.append(np.tile(encoded_objects[3], (samples_per_window, 1)))\n",
    "  return data, labels\n",
    "\n",
    "all_data, labels = read_npy_files(data_dir)\n",
    "\n",
    "# converting to numpy array\n",
    "all_data = np.asarray(all_data)[:, :, :, 1:].astype(np.float32)\n",
    "labels = np.asarray(labels).astype(np.float32)"
   ]
  },
  {
   "cell_type": "code",
   "execution_count": 5,
   "metadata": {},
   "outputs": [],
   "source": [
    "train_all_data = []\n",
    "val_all_data = []\n",
    "test_all_data =[]\n",
    "train_labels = []\n",
    "val_labels = []\n",
    "test_labels = []\n",
    "total_samples = 8\n",
    "val_samples = 0\n",
    "test_samples = 2\n",
    "train_samples = total_samples - val_samples - test_samples\n",
    "\n",
    "\n",
    "for data in all_data:\n",
    "  for i in range(train_samples):\n",
    "    train_all_data.append(data[i])\n",
    "  for i in range(val_samples):\n",
    "    val_all_data.append(data[train_samples + i])\n",
    "  for i in range(test_samples):\n",
    "    test_all_data.append(data[train_samples + val_samples + i])\n",
    "\n",
    "for label in labels:\n",
    "  # label = np.expand_dims(label[1, :], axis = 0)\n",
    "  # print(np.asarray(label).shape)\n",
    "  for i in range(train_samples):\n",
    "    train_labels.append(label[1, :])\n",
    "  for i in range(val_samples):\n",
    "    val_labels.append(label[1, :])\n",
    "  for i in range(test_samples):\n",
    "    test_labels.append(label[1, :])"
   ]
  },
  {
   "cell_type": "code",
   "execution_count": 6,
   "metadata": {},
   "outputs": [
    {
     "name": "stderr",
     "output_type": "stream",
     "text": [
      "2024-10-25 12:47:58.553433: I tensorflow/core/common_runtime/gpu/gpu_device.cc:2021] Created device /job:localhost/replica:0/task:0/device:GPU:0 with 46300 MB memory:  -> device: 5, name: NVIDIA RTX A6000, pci bus id: 0000:9b:00.0, compute capability: 8.6\n"
     ]
    }
   ],
   "source": [
    "precision = tf.keras.metrics.Precision()\n",
    "recall = tf.keras.metrics.Recall()\n",
    "\n",
    "@tf.keras.utils.register_keras_serializable()\n",
    "def f1_score(y_true, y_pred):\n",
    "    precision_value = precision(y_true, y_pred)\n",
    "    recall_value = recall(y_true, y_pred)\n",
    "    f1 = 2 * ((precision_value * recall_value) / (precision_value + recall_value + tf.keras.backend.epsilon()))\n",
    "    return f1\n",
    "\n",
    "custom_objects = {'f1_score': f1_score}\n",
    "\n",
    "model = load_model('checkpoint_4obj_model_gru_2000.keras', custom_objects=custom_objects)"
   ]
  },
  {
   "cell_type": "code",
   "execution_count": 7,
   "metadata": {},
   "outputs": [],
   "source": [
    "test_data_tf = tf.convert_to_tensor(test_all_data)\n",
    "test_labels_tf = tf.convert_to_tensor(test_labels)"
   ]
  },
  {
   "cell_type": "code",
   "execution_count": 8,
   "metadata": {},
   "outputs": [
    {
     "name": "stderr",
     "output_type": "stream",
     "text": [
      "2024-10-25 12:48:05.862403: I external/local_xla/xla/stream_executor/cuda/cuda_dnn.cc:531] Loaded cuDNN version 8907\n"
     ]
    },
    {
     "name": "stdout",
     "output_type": "stream",
     "text": [
      "\u001b[1m1/1\u001b[0m \u001b[32m━━━━━━━━━━━━━━━━━━━━\u001b[0m\u001b[37m\u001b[0m \u001b[1m4s\u001b[0m 4s/step - accuracy: 0.8750 - f1_score: 0.8750 - loss: 0.3160 - precision: 0.8750 - recall: 0.8750\n",
      "Test Loss: 0.3159906566143036\n",
      "Test Accuracy: 0.875\n",
      "Test F-Score: 0.8749999403953552\n"
     ]
    }
   ],
   "source": [
    "# Evaluate the model on the test data\n",
    "loss, accuracy, precision, recall, f1_score = model.evaluate(test_data_tf, test_labels_tf)\n",
    "\n",
    "print(f\"Test Loss: {loss}\")\n",
    "print(f\"Test Accuracy: {accuracy}\")\n",
    "print(f\"Test F-Score: {f1_score}\")"
   ]
  },
  {
   "cell_type": "code",
   "execution_count": 10,
   "metadata": {},
   "outputs": [
    {
     "name": "stdout",
     "output_type": "stream",
     "text": [
      "\u001b[1m1/1\u001b[0m \u001b[32m━━━━━━━━━━━━━━━━━━━━\u001b[0m\u001b[37m\u001b[0m \u001b[1m0s\u001b[0m 305ms/step\n"
     ]
    },
    {
     "data": {
      "image/png": "[encoded data removed]",
      "text/plain": [
       "<Figure size 800x600 with 2 Axes>"
      ]
     },
     "metadata": {},
     "output_type": "display_data"
    }
   ],
   "source": [
    "test_pred_tf = model.predict(test_data_tf)\n",
    "\n",
    "# print(test_pred_tf.shape)\n",
    "# print(test_labels_tf.shape)\n",
    "\n",
    "test_pred_tf = np.argmax(test_pred_tf, axis=1)\n",
    "test_labels_tf = np.argmax(test_labels_tf, axis=1)\n",
    "\n",
    "# print(test_pred_tf.shape)\n",
    "# print(test_labels_tf.shape)\n",
    "\n",
    "classes = [0, 1, 2, 3]\n",
    "\n",
    "cm = confusion_matrix(test_labels_tf, test_pred_tf, labels=classes)\n",
    "\n",
    "plt.figure(figsize=(8, 6))\n",
    "sns.heatmap(cm, annot=True, fmt='d', cmap='Blues', xticklabels=['Steel', 'Silicon', 'Poly-ethylene', 'Rubber'], yticklabels=['Steel', 'Silicon', 'Poly-ethylene', 'Rubber'])\n",
    "plt.xlabel('Predicted')\n",
    "plt.ylabel('True')\n",
    "plt.title('Confusion Matrix')\n",
    "plt.show()"
   ]
  }
 ],
 "metadata": {
  "kernelspec": {
   "display_name": "dt",
   "language": "python",
   "name": "python3"
  },
  "language_info": {
   "codemirror_mode": {
    "name": "ipython",
    "version": 3
   },
   "file_extension": ".py",
   "mimetype": "text/x-python",
   "name": "python",
   "nbconvert_exporter": "python",
   "pygments_lexer": "ipython3",
   "version": "3.10.15"
  }
 },
 "nbformat": 4,
 "nbformat_minor": 2
}
