{
 "cells": [
  {
   "cell_type": "code",
   "execution_count": 23,
   "metadata": {},
   "outputs": [],
   "source": [
    "# importing libraries\n",
    "import math\n",
    "import tensorflow as tf\n",
    "import keras\n",
    "from keras.layers import *\n",
    "import numpy as np\n",
    "import random\n",
    "import io\n",
    "import os\n",
    "from sklearn.model_selection import train_test_split\n",
    "from keras.activations import tanh, softmax, sigmoid\n",
    "from keras.applications.inception_resnet_v2 import InceptionResNetV2\n",
    "import tensorflow as tf\n",
    "import random\n",
    "import os\n",
    "import keras\n",
    "import matplotlib.pyplot as plt\n",
    "import pandas as pd\n",
    "from keras.layers import (\n",
    "    LSTM,\n",
    "    LSTMCell,\n",
    "    Input,\n",
    "    Dense,\n",
    "    concatenate,\n",
    "    TimeDistributed,\n",
    "    Flatten,\n",
    "    Dropout,\n",
    "    Masking,\n",
    "    RepeatVector,\n",
    "    GlobalAveragePooling2D,\n",
    "    GlobalMaxPooling2D,\n",
    "    Reshape,\n",
    "    multiply,\n",
    "    Permute,\n",
    "    Concatenate,\n",
    "    Conv2D,\n",
    "    Add,\n",
    "    Activation,\n",
    "    Lambda,\n",
    "    BatchNormalization\n",
    ")\n",
    "from keras import backend as K, Model\n",
    "from sklearn.model_selection import train_test_split\n",
    "from keras.callbacks import ModelCheckpoint\n",
    "from sklearn.metrics import precision_score, recall_score, f1_score\n",
    "from tensorflow.keras.models import load_model\n",
    "from sklearn.metrics import confusion_matrix\n",
    "import seaborn as sns"
   ]
  },
  {
   "cell_type": "code",
   "execution_count": 24,
   "metadata": {},
   "outputs": [
    {
     "name": "stdout",
     "output_type": "stream",
     "text": [
      "Available GPUs: [PhysicalDevice(name='/physical_device:GPU:0', device_type='GPU'), PhysicalDevice(name='/physical_device:GPU:1', device_type='GPU'), PhysicalDevice(name='/physical_device:GPU:2', device_type='GPU'), PhysicalDevice(name='/physical_device:GPU:3', device_type='GPU'), PhysicalDevice(name='/physical_device:GPU:4', device_type='GPU'), PhysicalDevice(name='/physical_device:GPU:5', device_type='GPU'), PhysicalDevice(name='/physical_device:GPU:6', device_type='GPU'), PhysicalDevice(name='/physical_device:GPU:7', device_type='GPU')]\n",
      "Using GPU: PhysicalDevice(name='/physical_device:GPU:5', device_type='GPU')\n"
     ]
    }
   ],
   "source": [
    "# List all physical GPUs\n",
    "gpus = tf.config.list_physical_devices('GPU')\n",
    "print(\"Available GPUs:\", gpus)\n",
    "\n",
    "if gpus:\n",
    "    try:\n",
    "        # Select the first GPU (index 0)\n",
    "        tf.config.set_visible_devices(gpus[5], 'GPU')\n",
    "\n",
    "        # Optionally, limit GPU memory growth (prevents TensorFlow from consuming all GPU memory)\n",
    "        for gpu in gpus:\n",
    "            tf.config.experimental.set_memory_growth(gpu, True)\n",
    "        \n",
    "        print(\"Using GPU:\", gpus[5])\n",
    "    except RuntimeError as e:\n",
    "        # Visible devices must be set before GPUs have been initialized\n",
    "        print(e)"
   ]
  },
  {
   "cell_type": "code",
   "execution_count": 25,
   "metadata": {},
   "outputs": [],
   "source": [
    "# soft object\n",
    "soft = np.asarray([1, 0])\n",
    "# hard object\n",
    "hard = np.asarray([0, 1])"
   ]
  },
  {
   "cell_type": "code",
   "execution_count": 26,
   "metadata": {},
   "outputs": [],
   "source": [
    "# reading a numpy file\n",
    "data_dir = './train_val_data'\n",
    "samples_per_window = 30\n",
    "\n",
    "def read_npy_files(directory):\n",
    "  data = []\n",
    "  labels = []\n",
    "  for filename in os.listdir(directory):\n",
    "    if filename.endswith(\".npy\"):\n",
    "      base_name = os.path.splitext(filename)[0]\n",
    "      data.append(np.load(os.path.join(directory, filename), allow_pickle = True))\n",
    "      # print(np.asarray(data).shape)\n",
    "      # for labelling\n",
    "      label = []\n",
    "      objects = ['phone cover', 'rubber', 'bottle']\n",
    "      if any(object in filename for object in objects):\n",
    "          label.append(np.tile(soft, (samples_per_window, 1)))\n",
    "      else:\n",
    "          label.append(np.tile(hard, (samples_per_window, 1)))\n",
    "      label = np.asarray(label).reshape(samples_per_window, 2)\n",
    "      # print(np.asarray(label).shape)\n",
    "      labels.append(np.asarray(label))\n",
    "  return data, labels\n",
    "\n",
    "all_data, labels = read_npy_files(data_dir)\n",
    "\n",
    "# converting to numpy array\n",
    "all_data = np.asarray(all_data)[:, :, :, 1:]\n",
    "labels = np.asarray(labels)"
   ]
  },
  {
   "cell_type": "code",
   "execution_count": 27,
   "metadata": {},
   "outputs": [],
   "source": [
    "train_all_data = []\n",
    "val_all_data = []\n",
    "test_all_data =[]\n",
    "train_labels = []\n",
    "val_labels = []\n",
    "test_labels = []\n",
    "total_samples = 8\n",
    "val_samples = 1\n",
    "test_samples = 1\n",
    "train_samples = total_samples - val_samples - test_samples\n",
    "\n",
    "\n",
    "for data in all_data:\n",
    "  for i in range(train_samples):\n",
    "    train_all_data.append(data[i])\n",
    "  for i in range(val_samples):\n",
    "    val_all_data.append(data[train_samples + i])\n",
    "  for i in range(test_samples):\n",
    "    test_all_data.append(data[train_samples + val_samples + i])\n",
    "\n",
    "for label in labels:\n",
    "  # label = np.expand_dims(label[1, :], axis = 0)\n",
    "  # print(np.asarray(label).shape)\n",
    "  for i in range(train_samples):\n",
    "    train_labels.append(label[1, :])\n",
    "  for i in range(val_samples):\n",
    "    val_labels.append(label[1, :])\n",
    "  for i in range(test_samples):\n",
    "    test_labels.append(label[1, :])"
   ]
  },
  {
   "cell_type": "code",
   "execution_count": 28,
   "metadata": {},
   "outputs": [],
   "source": [
    "precision = tf.keras.metrics.Precision()\n",
    "recall = tf.keras.metrics.Recall()\n",
    "\n",
    "@tf.keras.utils.register_keras_serializable()\n",
    "def f1_score(y_true, y_pred):\n",
    "    precision_value = precision(y_true, y_pred)\n",
    "    recall_value = recall(y_true, y_pred)\n",
    "    f1 = 2 * ((precision_value * recall_value) / (precision_value + recall_value + tf.keras.backend.epsilon()))\n",
    "    return f1\n",
    "\n",
    "custom_objects = {'f1_score': f1_score}\n",
    "\n",
    "model = load_model('checkpoint_model.keras', custom_objects=custom_objects)"
   ]
  },
  {
   "cell_type": "code",
   "execution_count": 29,
   "metadata": {},
   "outputs": [],
   "source": [
    "test_data_tf = tf.convert_to_tensor(test_all_data)\n",
    "test_labels_tf = tf.convert_to_tensor(test_labels)"
   ]
  },
  {
   "cell_type": "code",
   "execution_count": 30,
   "metadata": {},
   "outputs": [
    {
     "data": {
      "text/plain": [
       "TensorShape([12, 30, 3])"
      ]
     },
     "execution_count": 30,
     "metadata": {},
     "output_type": "execute_result"
    }
   ],
   "source": [
    "test_data_tf.shape"
   ]
  },
  {
   "cell_type": "code",
   "execution_count": 31,
   "metadata": {},
   "outputs": [
    {
     "data": {
      "text/plain": [
       "TensorShape([12, 2])"
      ]
     },
     "execution_count": 31,
     "metadata": {},
     "output_type": "execute_result"
    }
   ],
   "source": [
    "test_labels_tf.shape"
   ]
  },
  {
   "cell_type": "code",
   "execution_count": 32,
   "metadata": {},
   "outputs": [
    {
     "name": "stdout",
     "output_type": "stream",
     "text": [
      "\u001b[1m1/1\u001b[0m \u001b[32m━━━━━━━━━━━━━━━━━━━━\u001b[0m\u001b[37m\u001b[0m \u001b[1m3s\u001b[0m 3s/step - accuracy: 0.8333 - f1_score: 0.8333 - loss: 0.2784 - precision_1: 0.8333 - recall_1: 0.8333\n",
      "Test Loss: 0.2783912420272827\n",
      "Test Accuracy: 0.8333333134651184\n",
      "Test F-Score: 0.8333332538604736\n"
     ]
    }
   ],
   "source": [
    "# Evaluate the model on the test data\n",
    "loss, accuracy, precision, recall, f1_score = model.evaluate(test_data_tf, test_labels_tf)\n",
    "\n",
    "print(f\"Test Loss: {loss}\")\n",
    "print(f\"Test Accuracy: {accuracy}\")\n",
    "print(f\"Test F-Score: {f1_score}\")\n"
   ]
  },
  {
   "cell_type": "code",
   "execution_count": 33,
   "metadata": {},
   "outputs": [
    {
     "name": "stdout",
     "output_type": "stream",
     "text": [
      "\u001b[1m1/1\u001b[0m \u001b[32m━━━━━━━━━━━━━━━━━━━━\u001b[0m\u001b[37m\u001b[0m \u001b[1m0s\u001b[0m 484ms/step\n"
     ]
    },
    {
     "data": {
      "image/png": "[encoded data removed]",
      "text/plain": [
       "<Figure size 800x600 with 2 Axes>"
      ]
     },
     "metadata": {},
     "output_type": "display_data"
    }
   ],
   "source": [
    "test_pred_tf = model.predict(test_data_tf)\n",
    "\n",
    "# print(test_pred_tf.shape)\n",
    "# print(test_labels_tf.shape)\n",
    "\n",
    "test_pred_tf = np.argmax(test_pred_tf, axis=1)\n",
    "test_labels_tf = np.argmax(test_labels_tf, axis=1)\n",
    "\n",
    "# print(test_pred_tf.shape)\n",
    "# print(test_labels_tf.shape)\n",
    "\n",
    "cm = confusion_matrix(test_labels_tf, test_pred_tf)\n",
    "\n",
    "plt.figure(figsize=(8, 6))\n",
    "sns.heatmap(cm, annot=True, fmt='d', cmap='Blues', xticklabels=['Soft', 'Hard'], yticklabels=['Soft', 'Hard'])\n",
    "plt.xlabel('Predicted')\n",
    "plt.ylabel('True')\n",
    "plt.title('Confusion Matrix')\n",
    "plt.show()"
   ]
  }
 ],
 "metadata": {
  "kernelspec": {
   "display_name": "dt",
   "language": "python",
   "name": "python3"
  },
  "language_info": {
   "codemirror_mode": {
    "name": "ipython",
    "version": 3
   },
   "file_extension": ".py",
   "mimetype": "text/x-python",
   "name": "python",
   "nbconvert_exporter": "python",
   "pygments_lexer": "ipython3",
   "version": "3.10.15"
  }
 },
 "nbformat": 4,
 "nbformat_minor": 2
}
